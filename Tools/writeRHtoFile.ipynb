{
 "cells": [
  {
   "cell_type": "markdown",
   "metadata": {},
   "source": [
    "# Reading HDF5 files to textfiles for later use in Julia\n",
    "\n",
    "This is a stupid way of doing this. It's a little like making sauce in one pot and then transfering it to a another pot just before serving. Sure, you can do that, but the only thing you gain is more dishes and an increased likelyhood of burning yourself.\n",
    "\n",
    "At the time I was unable to read the HDF5 files in Julia."
   ]
  },
  {
   "cell_type": "code",
   "execution_count": 1,
   "metadata": {},
   "outputs": [],
   "source": [
    "import numpy\n",
    "from helita.sim import rh15d\n",
    "from tqdm import tqdm"
   ]
  },
  {
   "cell_type": "code",
   "execution_count": 2,
   "metadata": {},
   "outputs": [],
   "source": [
    "# Directories with HDF5 data \n",
    "FALC_in = \"/mn/stornext/d18/RoCS/idarhan/MScProject_basement/OpThickB/rhInput/FALC/FALC_82_5x5.hdf5\"\n",
    "FALC_out = \"/mn/stornext/d18/RoCS/idarhan/MScProject_basement/OpThickB/rhOutput/FALC/Experiment2\"\n",
    "\n",
    "Bifrost_out = \"/mn/stornext/d18/RoCS/idarhan/MScProject_basement/OpThickB/rhOutput/Bifrost/Experiment3\"\n",
    "Bifrost_in = \"/mn/stornext/d18/RoCS/idarhan/MScProject_basement/OpThickB/rhInput/Bifrost/bifrost_cb24bih_s385.hdf5\"\n",
    "\n",
    "# Directory to place textfiles\n",
    "path = \"/mn/stornext/d18/RoCS/idarhan/MScProject_basement/Renditions/R1/data/\""
   ]
  },
  {
   "cell_type": "code",
   "execution_count": 3,
   "metadata": {},
   "outputs": [
    {
     "name": "stderr",
     "output_type": "stream",
     "text": [
      "/astro/local/anaconda/envs/py38/lib/python3.8/site-packages/helita/sim/rh15d.py:40: FutureWarning: The autoclose argument is no longer used by xarray.open_dataset() and is now ignored; it will be removed in a future version of xarray. If necessary, you can control the maximum number of simultaneous open files with xarray.set_options(file_cache_maxsize=...).\n",
      "  setattr(self, g, xr.open_dataset(infile, group=g, autoclose=True))\n",
      "/astro/local/anaconda/envs/py38/lib/python3.8/site-packages/helita/sim/rh15d.py:53: FutureWarning: The autoclose argument is no longer used by xarray.open_dataset() and is now ignored; it will be removed in a future version of xarray. If necessary, you can control the maximum number of simultaneous open files with xarray.set_options(file_cache_maxsize=...).\n",
      "  self.ray = xr.open_dataset(infile, autoclose=True)\n"
     ]
    },
    {
     "name": "stdout",
     "output_type": "stream",
     "text": [
      "--- Read /mn/stornext/d18/RoCS/idarhan/MScProject_basement/OpThickB/rhOutput/FALC/Experiment2/output_aux.hdf5 file.\n",
      "--- Read /mn/stornext/d18/RoCS/idarhan/MScProject_basement/OpThickB/rhOutput/FALC/Experiment2/output_indata.hdf5 file.\n",
      "--- Read /mn/stornext/d18/RoCS/idarhan/MScProject_basement/OpThickB/rhOutput/FALC/Experiment2/output_ray.hdf5 file.\n",
      "--- Read /mn/stornext/d18/RoCS/idarhan/MScProject_basement/OpThickB/rhOutput/Bifrost/Experiment3/output_aux.hdf5 file.\n",
      "--- Read /mn/stornext/d18/RoCS/idarhan/MScProject_basement/OpThickB/rhOutput/Bifrost/Experiment3/output_indata.hdf5 file.\n",
      "--- Read /mn/stornext/d18/RoCS/idarhan/MScProject_basement/OpThickB/rhOutput/Bifrost/Experiment3/output_ray.hdf5 file.\n"
     ]
    }
   ],
   "source": [
    "# Use helita to read output \n",
    "data_FALC = rh15d.Rh15dout(FALC_out)\n",
    "data_Bifrost = rh15d.Rh15dout(Bifrost_out)"
   ]
  },
  {
   "cell_type": "code",
   "execution_count": 4,
   "metadata": {},
   "outputs": [],
   "source": [
    "# Remove NAN entries, to save time and memory in I/O\n",
    "FALC_atmos = data_FALC.atmos.dropna('height')\n",
    "FALC_ray = data_FALC.ray.dropna('height') "
   ]
  },
  {
   "cell_type": "code",
   "execution_count": 5,
   "metadata": {},
   "outputs": [],
   "source": [
    "index500 = numpy.argmin(numpy.asarray(abs(FALC_ray['wavelength_selected'] - 500)))\n",
    "index500_full =  numpy.argmin(numpy.asarray(abs(FALC_ray['wavelength'] - 500)))"
   ]
  },
  {
   "cell_type": "code",
   "execution_count": 8,
   "metadata": {},
   "outputs": [],
   "source": [
    "# Load relevant parameters \n",
    "x_FALC = FALC_atmos['x']\n",
    "y_FALC = FALC_atmos['y']\n",
    "height_FALC = FALC_atmos['height_scale'][0,0]\n",
    "temperature_FALC = FALC_atmos['temperature']\n",
    "electron_density_FALC = FALC_atmos['electron_density']\n",
    "velocity_z_FALC = FALC_atmos['velocity_z']\n",
    "\n",
    "chi_continuum_FALC = FALC_ray['chi_continuum'][:,:,:,index500]\n",
    "epsilon_continuum_FALC = FALC_ray['epsilon_continuum'][:,:,:,index500]\n",
    "intensity_FALC = FALC_ray['intensity'][:,:,index500_full]"
   ]
  },
  {
   "cell_type": "code",
   "execution_count": 12,
   "metadata": {},
   "outputs": [],
   "source": [
    "# Remove NAN entries, to save time and memory in I/O\n",
    "# but not on ray data, because time-consuming and not going to use most data\n",
    "Bifrost_atmos = data_Bifrost.atmos.dropna('height')\n",
    "Bifrost_ray = data_Bifrost.ray "
   ]
  },
  {
   "cell_type": "code",
   "execution_count": 8,
   "metadata": {},
   "outputs": [],
   "source": [
    "# Load relevant parameters \n",
    "x_Bifrost = Bifrost_atmos['x']\n",
    "y_Bifrost = Bifrost_atmos['y']\n",
    "height_Bifrost = Bifrost_atmos['height_scale'][0,0]\n",
    "temperature_Bifrost = Bifrost_atmos['temperature']\n",
    "electron_density_Bifrost = Bifrost_atmos['electron_density']\n",
    "velocity_z_Bifrost = Bifrost_atmos['velocity_z']\n",
    "\n",
    "# Remove NAN from sliced arrays \n",
    "chi_continuum_Bifrost = Bifrost_ray['chi_continuum'][:,:,:,index500].dropna('height')\n",
    "epsilon_continuum_Bifrost = Bifrost_ray['epsilon_continuum'][:,:,:,index500].dropna('height')\n",
    "intensity_Bifrost = Bifrost_ray['intensity'][:,:,index500_full]"
   ]
  },
  {
   "cell_type": "code",
   "execution_count": 8,
   "metadata": {},
   "outputs": [],
   "source": [
    "def writeToFile(parameter, unit, filename):\n",
    "    \"\"\"\n",
    "    Function for writing a 1D, 2D or 3D array to a textfile. \n",
    "    \n",
    "    First line gives unit\n",
    "    \"\"\"\n",
    "    \n",
    "    f = open(filename, 'w')\n",
    "    \n",
    "    shape = parameter.shape\n",
    "    dim = len(shape)\n",
    "    \n",
    "    f.write(unit)\n",
    "    f.write(\"\\n\")\n",
    "    f.write(str(shape))\n",
    "    \n",
    "    if dim == 1:\n",
    "        f.write(\"\\n\\n\")\n",
    "        for i in range(shape[0]):\n",
    "            \n",
    "            f.write(\"%e \" %parameter[i])\n",
    "\n",
    "    elif dim == 2:\n",
    "        f.write(\"\\n\")\n",
    "        for j in range(shape[1]):\n",
    "            f.write(\"\\n\")\n",
    "            for i in range(shape[0]):\n",
    "                f.write(\"%e \" %parameter[i,j]) \n",
    "    \n",
    "    elif dim == 3:\n",
    "        \n",
    "        for k in tqdm(range(shape[2])):\n",
    "            f.write(\"\\n\")\n",
    "            for j in range(shape[1]):\n",
    "                f.write(\"\\n\")\n",
    "                for i in range(shape[0]):\n",
    "                    f.write(\"%e \" %parameter[i,j,k]) \n",
    "        \n",
    "    else:\n",
    "        print(\"Can only read 1D or 3D parameters. Check the shape of your input.\")    \n",
    "    \n",
    "    f.close()"
   ]
  },
  {
   "cell_type": "code",
   "execution_count": 14,
   "metadata": {},
   "outputs": [
    {
     "name": "stderr",
     "output_type": "stream",
     "text": [
      "100%|██████████| 68/68 [00:00<00:00, 187.94it/s]\n"
     ]
    }
   ],
   "source": [
    "writeToFile(x_FALC, 'm', path + 'x_FALC.txt')\n",
    "writeToFile(y_FALC, 'm', path + 'y_FALC.txt')\n",
    "writeToFile(height_FALC, 'm', path + 'height_FALC.txt')\n",
    "writeToFile(temperature_FALC, 'K', path + 'temperature_FALC.txt')\n",
    "writeToFile(electron_density_FALC, 'm-3', path + 'electron_density_FALC.txt')\n",
    "writeToFile(velocity_z_FALC, 'm s-1', path + 'velocity_z_FALC.txt')\n",
    "\n",
    "writeToFile(chi_continuum_FALC, 'm^-1', path + 'chi_continuum_FALC.txt')\n",
    "writeToFile(epsilon_continuum_FALC, '1', path + 'epsilon_continuum_FALC.txt')\n",
    "writeToFile(intensity_FALC, 'W m^-2 Hz^-1 sr^-1', path + 'intensity_FALC.txt')"
   ]
  },
  {
   "cell_type": "code",
   "execution_count": 10,
   "metadata": {},
   "outputs": [
    {
     "name": "stderr",
     "output_type": "stream",
     "text": [
      "100%|██████████| 117/117 [1:46:40<00:00, 54.70s/it]\n"
     ]
    }
   ],
   "source": [
    "writeToFile(x_Bifrost, 'm', path + 'x_Bifrost.txt')\n",
    "writeToFile(y_Bifrost, 'm', path + 'y_Bifrost.txt')\n",
    "writeToFile(height_Bifrost, 'm', path + 'height_Bifrost.txt')\n",
    "writeToFile(temperature_Bifrost, 'K', path + 'temperature_Bifrost.txt')\n",
    "writeToFile(electron_density_Bifrost, 'm-3', path + 'electron_density_Bifrost.txt')\n",
    "writeToFile(velocity_z_Bifrost, 'm s-1', path + 'velocity_z_Bifrost.txt')\n",
    "\n",
    "writeToFile(chi_continuum_Bifrost, 'm^-1', path + 'chi_continuum_Bifrost.txt')\n",
    "writeToFile(epsilon_continuum_Bifrost, '1', path + 'epsilon_continuum_Bifrost.txt')\n",
    "writeToFile(intensity_Bifrost, 'W m^-2 Hz^-1 sr^-1', path + 'intensity_Bifrost.txt')"
   ]
  },
  {
   "cell_type": "code",
   "execution_count": null,
   "metadata": {},
   "outputs": [],
   "source": []
  }
 ],
 "metadata": {
  "kernelspec": {
   "display_name": "Python 3",
   "language": "python",
   "name": "python3"
  },
  "language_info": {
   "codemirror_mode": {
    "name": "ipython",
    "version": 3
   },
   "file_extension": ".py",
   "mimetype": "text/x-python",
   "name": "python",
   "nbconvert_exporter": "python",
   "pygments_lexer": "ipython3",
   "version": "3.8.5"
  }
 },
 "nbformat": 4,
 "nbformat_minor": 4
}
